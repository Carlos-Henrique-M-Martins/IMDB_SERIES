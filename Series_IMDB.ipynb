{
  "cells": [
    {
      "cell_type": "markdown",
      "source": [
        "#Pesquisa"
      ],
      "metadata": {
        "id": "5wYScuJATV-b"
      }
    },
    {
      "cell_type": "markdown",
      "source": [
        "O SITE\n",
        "\n",
        "Como um amante de series eu sempre quis estudalas mais a fundo, principalmente sobre as suas recepções pelo público. Mas para isso eu precisava coletar dados sobre elas de uma fonte imparcial e de prestigio. Com isso em mente o IMDB foi uma escolha certeira se baseanda apenas em fatores estatisticos. Assim esse trabalho de web scraping surgiu"
      ],
      "metadata": {
        "id": "9koijUkiTae6"
      }
    },
    {
      "cell_type": "markdown",
      "source": [
        "OS PROBLEMAS\n",
        "\n",
        "Uma varredura analogica no site revelou alguns problemas para a coleta.\n",
        "A maioria das listas de popularidade incluem series que ainda não foram exibidas faltando assim muitas informassoes delas. Para reesolver isso foi escolhida uma lista baseada no numero de votos dos usuários para conferir um nivel de engajamento em cada seria analizada. Algo mais comum de acontecer com eries que já tiveram o seu lançamento. \n",
        "\n",
        "Por questões envolvendo a formulação web do site alguns dados como o elenco principal e a media de tempo de cada episodeo tiveram que ficar de fora da coleta."
      ],
      "metadata": {
        "id": "0xLpXB1-Udjb"
      }
    },
    {
      "cell_type": "markdown",
      "source": [
        "OS DADOS\n",
        "\n",
        "Por se uma pesquisa estatistica sobre a avaliação dos usuários foram escolhidos elementos que abordem o contexto de cada serie e que representão o nivel da sua \"popularidade e engajamento por parte do publico.Dito isso os elementos coletados foram \n",
        "\n",
        "\n",
        "Posição: Que representa em qual o hank de numeros de avaliações a serie se encontra.\n",
        "\n",
        "Nome: O nome da serie.\n",
        "\n",
        "Ano: Anos respectivos ao começo e finalização da serie.\n",
        "\n",
        "Genero: Generos cinematograficos nos quais a serie aborda.\n",
        "\n",
        "Votos: Numero total de votos.\n"
      ],
      "metadata": {
        "id": "6vPiBR83UYiW"
      }
    },
    {
      "cell_type": "markdown",
      "source": [
        "# Importando as bibliotecas"
      ],
      "metadata": {
        "id": "eo1EUY8fHJyy"
      }
    },
    {
      "cell_type": "code",
      "execution_count": 2,
      "metadata": {
        "id": "p-qcbJGg7nsj"
      },
      "outputs": [],
      "source": [
        "import pandas as pd\n",
        "from bs4 import BeautifulSoup\n",
        "import numpy as np\n",
        "import requests\n",
        "import urllib.request as urllib_request\n",
        "from urllib.request import Request, urlopen"
      ]
    },
    {
      "cell_type": "code",
      "execution_count": 3,
      "metadata": {
        "id": "0qFGrfIOlftz"
      },
      "outputs": [],
      "source": [
        "#Por uma questão de formatação das paginas será preciso de um tratamento expecifico do nome antes do scraping\n",
        "\n",
        "def nome(serie):\n",
        "  lines = serie.find('h3', {'class':'lister-item-header'})\n",
        "  item = lines.text.split('.')[1]\n",
        "  card['name'] = item.split('(')[0]\n",
        "  card['name'] = item.split('\\n\\n\\n')[0]"
      ]
    },
    {
      "cell_type": "code",
      "execution_count": 4,
      "metadata": {
        "id": "T8_7ALgjRtmW"
      },
      "outputs": [],
      "source": [
        "# Para fazer o scraping nas paginas do imdb será preciso de uma lista e um dicionario\n",
        "cards = []\n",
        "card = {}"
      ]
    },
    {
      "cell_type": "code",
      "source": [
        "#A variavel i vai serr umportante para passar as paginas\n",
        "i= 1"
      ],
      "metadata": {
        "id": "M-A7M2cCIqeV"
      },
      "execution_count": 5,
      "outputs": []
    },
    {
      "cell_type": "code",
      "execution_count": 6,
      "metadata": {
        "id": "I-gHgRziy6P_"
      },
      "outputs": [],
      "source": [
        "\n",
        "\n",
        "\n",
        "# Estabelecendo o fim da coleta (500 series)\n",
        "while i < 500:\n",
        "  #definindo o começo da coleta\n",
        "  response = urlopen('https://www.imdb.com/search/title/?title_type=tv_series&sort=num_votes,desc&start={}&ref_=adv_nxt'.format(i))\n",
        "  html = response.read()\n",
        "  html = html.decode('utf-8')\n",
        "  ## O BeautifulSoup sendo usado para permitir uma pesquisa dentro da pagina\n",
        "  soup = BeautifulSoup(html, 'html.parser')\n",
        "\n",
        "#cortando s pagina de busca para criar uma lista com cada serie a ser coletada\n",
        "  series = soup.find('div', {'class': 'lister-list'}).findAll('div', class_= 'lister-item mode-advanced')\n",
        "  #criando uma rotina para a coleta\n",
        "  for serie in series:\n",
        "    card = {}\n",
        "    #definindo os elementos a serem coletados\n",
        "    card['position'] = serie.find('span', {'class':'lister-item-index unbold text-primary'}).get_text().split('.')[0]\n",
        "    nome(serie)\n",
        "    card['ano'] = serie.find('span', {'class':'lister-item-year text-muted unbold'}).get_text()\n",
        "    card['genre'] = serie.find('span', {'class':'genre'}).get_text() \n",
        "    card['note'] = serie.find('div', {'class':'inline-block ratings-imdb-rating'}).get_text()\n",
        "    card['votos'] = serie.find('span', {'name':'nv'}).get_text() \n",
        "    cards.append(card)\n",
        "  #Para definir uma nova pagina é preciso adicionar 50 ao numera da pagina anterior. Por isso a adição de +50 ao i\n",
        "  i+=50 \n",
        "#Quardando todos os elementos coletados em um DataFrame\n",
        "dataset = pd.DataFrame(cards)"
      ]
    },
    {
      "cell_type": "code",
      "source": [
        "#Um pequeno tratamento nos dados coletados\n",
        "lines = range(dataset.shape[0] )\n",
        "for line in lines:\n",
        "  dataset['name'][line] = dataset['name'][line].split('\\n')[1]\n",
        "  dataset['genre'][line] = dataset['genre'][line].split('\\n')[1]\n",
        "  dataset['note'][line] = dataset['note'][line].split('\\n')[2]"
      ],
      "metadata": {
        "id": "AguxdodOnCn8"
      },
      "execution_count": 7,
      "outputs": []
    },
    {
      "cell_type": "code",
      "source": [
        "dataset"
      ],
      "metadata": {
        "colab": {
          "base_uri": "https://localhost:8080/",
          "height": 424
        },
        "id": "0ypi0ekmno9r",
        "outputId": "3e52d2ee-c7da-41a2-a2fa-f2a63b640c89"
      },
      "execution_count": 8,
      "outputs": [
        {
          "output_type": "execute_result",
          "data": {
            "text/plain": [
              "    position                 name          ano  \\\n",
              "0          1      Game of Thrones  (2011–2019)   \n",
              "1          2         Breaking Bad  (2008–2013)   \n",
              "2          3      Stranger Things     (2016– )   \n",
              "3          4              Friends  (1994–2004)   \n",
              "4          5     The Walking Dead  (2010–2022)   \n",
              "..       ...                  ...          ...   \n",
              "495      496        Yellowjackets     (2021– )   \n",
              "496      497               Empire  (2015–2020)   \n",
              "497      498         Drake & Josh  (2004–2007)   \n",
              "498      499   Impractical Jokers     (2011– )   \n",
              "499      500  The Kominsky Method  (2018–2021)   \n",
              "\n",
              "                                    genre note      votos  \n",
              "0    Action, Adventure, Drama              9.2  1,997,704  \n",
              "1      Crime, Drama, Thriller              9.5  1,750,746  \n",
              "2      Drama, Fantasy, Horror              8.7  1,044,155  \n",
              "3             Comedy, Romance              8.9    957,106  \n",
              "4     Drama, Horror, Thriller              8.2    950,680  \n",
              "..                                    ...  ...        ...  \n",
              "495    Drama, Horror, Mystery              7.9     39,255  \n",
              "496              Drama, Music              7.3     39,240  \n",
              "497            Comedy, Family              7.7     39,223  \n",
              "498        Comedy, Reality-TV              8.6     39,133  \n",
              "499             Comedy, Drama              8.2     39,003  \n",
              "\n",
              "[500 rows x 6 columns]"
            ],
            "text/html": [
              "\n",
              "  <div id=\"df-936cd638-432f-4b09-92a5-689c6df8313b\">\n",
              "    <div class=\"colab-df-container\">\n",
              "      <div>\n",
              "<style scoped>\n",
              "    .dataframe tbody tr th:only-of-type {\n",
              "        vertical-align: middle;\n",
              "    }\n",
              "\n",
              "    .dataframe tbody tr th {\n",
              "        vertical-align: top;\n",
              "    }\n",
              "\n",
              "    .dataframe thead th {\n",
              "        text-align: right;\n",
              "    }\n",
              "</style>\n",
              "<table border=\"1\" class=\"dataframe\">\n",
              "  <thead>\n",
              "    <tr style=\"text-align: right;\">\n",
              "      <th></th>\n",
              "      <th>position</th>\n",
              "      <th>name</th>\n",
              "      <th>ano</th>\n",
              "      <th>genre</th>\n",
              "      <th>note</th>\n",
              "      <th>votos</th>\n",
              "    </tr>\n",
              "  </thead>\n",
              "  <tbody>\n",
              "    <tr>\n",
              "      <th>0</th>\n",
              "      <td>1</td>\n",
              "      <td>Game of Thrones</td>\n",
              "      <td>(2011–2019)</td>\n",
              "      <td>Action, Adventure, Drama</td>\n",
              "      <td>9.2</td>\n",
              "      <td>1,997,704</td>\n",
              "    </tr>\n",
              "    <tr>\n",
              "      <th>1</th>\n",
              "      <td>2</td>\n",
              "      <td>Breaking Bad</td>\n",
              "      <td>(2008–2013)</td>\n",
              "      <td>Crime, Drama, Thriller</td>\n",
              "      <td>9.5</td>\n",
              "      <td>1,750,746</td>\n",
              "    </tr>\n",
              "    <tr>\n",
              "      <th>2</th>\n",
              "      <td>3</td>\n",
              "      <td>Stranger Things</td>\n",
              "      <td>(2016– )</td>\n",
              "      <td>Drama, Fantasy, Horror</td>\n",
              "      <td>8.7</td>\n",
              "      <td>1,044,155</td>\n",
              "    </tr>\n",
              "    <tr>\n",
              "      <th>3</th>\n",
              "      <td>4</td>\n",
              "      <td>Friends</td>\n",
              "      <td>(1994–2004)</td>\n",
              "      <td>Comedy, Romance</td>\n",
              "      <td>8.9</td>\n",
              "      <td>957,106</td>\n",
              "    </tr>\n",
              "    <tr>\n",
              "      <th>4</th>\n",
              "      <td>5</td>\n",
              "      <td>The Walking Dead</td>\n",
              "      <td>(2010–2022)</td>\n",
              "      <td>Drama, Horror, Thriller</td>\n",
              "      <td>8.2</td>\n",
              "      <td>950,680</td>\n",
              "    </tr>\n",
              "    <tr>\n",
              "      <th>...</th>\n",
              "      <td>...</td>\n",
              "      <td>...</td>\n",
              "      <td>...</td>\n",
              "      <td>...</td>\n",
              "      <td>...</td>\n",
              "      <td>...</td>\n",
              "    </tr>\n",
              "    <tr>\n",
              "      <th>495</th>\n",
              "      <td>496</td>\n",
              "      <td>Yellowjackets</td>\n",
              "      <td>(2021– )</td>\n",
              "      <td>Drama, Horror, Mystery</td>\n",
              "      <td>7.9</td>\n",
              "      <td>39,255</td>\n",
              "    </tr>\n",
              "    <tr>\n",
              "      <th>496</th>\n",
              "      <td>497</td>\n",
              "      <td>Empire</td>\n",
              "      <td>(2015–2020)</td>\n",
              "      <td>Drama, Music</td>\n",
              "      <td>7.3</td>\n",
              "      <td>39,240</td>\n",
              "    </tr>\n",
              "    <tr>\n",
              "      <th>497</th>\n",
              "      <td>498</td>\n",
              "      <td>Drake &amp; Josh</td>\n",
              "      <td>(2004–2007)</td>\n",
              "      <td>Comedy, Family</td>\n",
              "      <td>7.7</td>\n",
              "      <td>39,223</td>\n",
              "    </tr>\n",
              "    <tr>\n",
              "      <th>498</th>\n",
              "      <td>499</td>\n",
              "      <td>Impractical Jokers</td>\n",
              "      <td>(2011– )</td>\n",
              "      <td>Comedy, Reality-TV</td>\n",
              "      <td>8.6</td>\n",
              "      <td>39,133</td>\n",
              "    </tr>\n",
              "    <tr>\n",
              "      <th>499</th>\n",
              "      <td>500</td>\n",
              "      <td>The Kominsky Method</td>\n",
              "      <td>(2018–2021)</td>\n",
              "      <td>Comedy, Drama</td>\n",
              "      <td>8.2</td>\n",
              "      <td>39,003</td>\n",
              "    </tr>\n",
              "  </tbody>\n",
              "</table>\n",
              "<p>500 rows × 6 columns</p>\n",
              "</div>\n",
              "      <button class=\"colab-df-convert\" onclick=\"convertToInteractive('df-936cd638-432f-4b09-92a5-689c6df8313b')\"\n",
              "              title=\"Convert this dataframe to an interactive table.\"\n",
              "              style=\"display:none;\">\n",
              "        \n",
              "  <svg xmlns=\"http://www.w3.org/2000/svg\" height=\"24px\"viewBox=\"0 0 24 24\"\n",
              "       width=\"24px\">\n",
              "    <path d=\"M0 0h24v24H0V0z\" fill=\"none\"/>\n",
              "    <path d=\"M18.56 5.44l.94 2.06.94-2.06 2.06-.94-2.06-.94-.94-2.06-.94 2.06-2.06.94zm-11 1L8.5 8.5l.94-2.06 2.06-.94-2.06-.94L8.5 2.5l-.94 2.06-2.06.94zm10 10l.94 2.06.94-2.06 2.06-.94-2.06-.94-.94-2.06-.94 2.06-2.06.94z\"/><path d=\"M17.41 7.96l-1.37-1.37c-.4-.4-.92-.59-1.43-.59-.52 0-1.04.2-1.43.59L10.3 9.45l-7.72 7.72c-.78.78-.78 2.05 0 2.83L4 21.41c.39.39.9.59 1.41.59.51 0 1.02-.2 1.41-.59l7.78-7.78 2.81-2.81c.8-.78.8-2.07 0-2.86zM5.41 20L4 18.59l7.72-7.72 1.47 1.35L5.41 20z\"/>\n",
              "  </svg>\n",
              "      </button>\n",
              "      \n",
              "  <style>\n",
              "    .colab-df-container {\n",
              "      display:flex;\n",
              "      flex-wrap:wrap;\n",
              "      gap: 12px;\n",
              "    }\n",
              "\n",
              "    .colab-df-convert {\n",
              "      background-color: #E8F0FE;\n",
              "      border: none;\n",
              "      border-radius: 50%;\n",
              "      cursor: pointer;\n",
              "      display: none;\n",
              "      fill: #1967D2;\n",
              "      height: 32px;\n",
              "      padding: 0 0 0 0;\n",
              "      width: 32px;\n",
              "    }\n",
              "\n",
              "    .colab-df-convert:hover {\n",
              "      background-color: #E2EBFA;\n",
              "      box-shadow: 0px 1px 2px rgba(60, 64, 67, 0.3), 0px 1px 3px 1px rgba(60, 64, 67, 0.15);\n",
              "      fill: #174EA6;\n",
              "    }\n",
              "\n",
              "    [theme=dark] .colab-df-convert {\n",
              "      background-color: #3B4455;\n",
              "      fill: #D2E3FC;\n",
              "    }\n",
              "\n",
              "    [theme=dark] .colab-df-convert:hover {\n",
              "      background-color: #434B5C;\n",
              "      box-shadow: 0px 1px 3px 1px rgba(0, 0, 0, 0.15);\n",
              "      filter: drop-shadow(0px 1px 2px rgba(0, 0, 0, 0.3));\n",
              "      fill: #FFFFFF;\n",
              "    }\n",
              "  </style>\n",
              "\n",
              "      <script>\n",
              "        const buttonEl =\n",
              "          document.querySelector('#df-936cd638-432f-4b09-92a5-689c6df8313b button.colab-df-convert');\n",
              "        buttonEl.style.display =\n",
              "          google.colab.kernel.accessAllowed ? 'block' : 'none';\n",
              "\n",
              "        async function convertToInteractive(key) {\n",
              "          const element = document.querySelector('#df-936cd638-432f-4b09-92a5-689c6df8313b');\n",
              "          const dataTable =\n",
              "            await google.colab.kernel.invokeFunction('convertToInteractive',\n",
              "                                                     [key], {});\n",
              "          if (!dataTable) return;\n",
              "\n",
              "          const docLinkHtml = 'Like what you see? Visit the ' +\n",
              "            '<a target=\"_blank\" href=https://colab.research.google.com/notebooks/data_table.ipynb>data table notebook</a>'\n",
              "            + ' to learn more about interactive tables.';\n",
              "          element.innerHTML = '';\n",
              "          dataTable['output_type'] = 'display_data';\n",
              "          await google.colab.output.renderOutput(dataTable, element);\n",
              "          const docLink = document.createElement('div');\n",
              "          docLink.innerHTML = docLinkHtml;\n",
              "          element.appendChild(docLink);\n",
              "        }\n",
              "      </script>\n",
              "    </div>\n",
              "  </div>\n",
              "  "
            ]
          },
          "metadata": {},
          "execution_count": 8
        }
      ]
    },
    {
      "cell_type": "code",
      "execution_count": 9,
      "metadata": {
        "id": "q8yo3h_8IeD9"
      },
      "outputs": [],
      "source": [
        "# importando os dados\n",
        "dataset.to_csv('series_+votadas.csv')\n"
      ]
    },
    {
      "cell_type": "code",
      "source": [
        ""
      ],
      "metadata": {
        "id": "mF5y2rixJ1r6"
      },
      "execution_count": 9,
      "outputs": []
    }
  ],
  "metadata": {
    "colab": {
      "name": "Series_IMDB.ipynb",
      "provenance": []
    },
    "kernelspec": {
      "display_name": "Python 3",
      "name": "python3"
    },
    "language_info": {
      "name": "python"
    }
  },
  "nbformat": 4,
  "nbformat_minor": 0
}